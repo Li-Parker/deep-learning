{
 "cells": [
  {
   "cell_type": "code",
   "execution_count": 1,
   "metadata": {
    "collapsed": true,
    "ExecuteTime": {
     "end_time": "2024-07-22T17:09:01.404830800Z",
     "start_time": "2024-07-22T17:09:01.053056100Z"
    }
   },
   "outputs": [
    {
     "ename": "NotADirectoryError",
     "evalue": "[WinError 267] 目录名称无效。: 'D:\\\\Desktop\\\\pythonProject\\\\deep_learning\\\\carla\\\\data_set\\\\Town01_long\\\\routes_town01_11_05_20_55_58\\\\rgb_front\\\\0000.png'",
     "output_type": "error",
     "traceback": [
      "\u001B[1;31m---------------------------------------------------------------------------\u001B[0m",
      "\u001B[1;31mNotADirectoryError\u001B[0m                        Traceback (most recent call last)",
      "Cell \u001B[1;32mIn[1], line 3\u001B[0m\n\u001B[0;32m      1\u001B[0m \u001B[38;5;28;01mimport\u001B[39;00m \u001B[38;5;21;01mos\u001B[39;00m\n\u001B[0;32m      2\u001B[0m path \u001B[38;5;241m=\u001B[39m \u001B[38;5;124m\"\u001B[39m\u001B[38;5;124mD:\u001B[39m\u001B[38;5;124m\\\u001B[39m\u001B[38;5;124mDesktop\u001B[39m\u001B[38;5;124m\\\u001B[39m\u001B[38;5;124mpythonProject\u001B[39m\u001B[38;5;124m\\\u001B[39m\u001B[38;5;124mdeep_learning\u001B[39m\u001B[38;5;124m\\\u001B[39m\u001B[38;5;124mcarla\u001B[39m\u001B[38;5;124m\\\u001B[39m\u001B[38;5;124mdata_set\u001B[39m\u001B[38;5;124m\\\u001B[39m\u001B[38;5;124mTown01_long\u001B[39m\u001B[38;5;130;01m\\\\\u001B[39;00m\u001B[38;5;124mroutes_town01_11_05_20_55_58\u001B[39m\u001B[38;5;130;01m\\\\\u001B[39;00m\u001B[38;5;124mrgb_front\u001B[39m\u001B[38;5;130;01m\\\\\u001B[39;00m\u001B[38;5;124m0000.png\u001B[39m\u001B[38;5;124m\"\u001B[39m\n\u001B[1;32m----> 3\u001B[0m \u001B[43mos\u001B[49m\u001B[38;5;241;43m.\u001B[39;49m\u001B[43mchdir\u001B[49m\u001B[43m(\u001B[49m\u001B[43mpath\u001B[49m\u001B[43m)\u001B[49m\n\u001B[0;32m      4\u001B[0m os\u001B[38;5;241m.\u001B[39mlistdir(path)\n\u001B[0;32m      6\u001B[0m \u001B[38;5;28;01mfrom\u001B[39;00m \u001B[38;5;21;01mtorchvision\u001B[39;00m \u001B[38;5;28;01mimport\u001B[39;00m models\n",
      "\u001B[1;31mNotADirectoryError\u001B[0m: [WinError 267] 目录名称无效。: 'D:\\\\Desktop\\\\pythonProject\\\\deep_learning\\\\carla\\\\data_set\\\\Town01_long\\\\routes_town01_11_05_20_55_58\\\\rgb_front\\\\0000.png'"
     ]
    }
   ],
   "source": [
    "import os\n",
    "path = \"D:\\Desktop\\pythonProject\\deep_learning\\carla\\data_set\\Town01_long\\\\routes_town01_11_05_20_55_58\\\\rgb_front\\\\0000.png\"\n",
    "os.chdir(path)\n",
    "os.listdir(path)\n",
    "\n",
    "from torchvision import models\n",
    "from PIL import Image\n",
    "import matplotlib.pyplot as plt\n",
    "import torch\n",
    "import numpy as np\n",
    "import cv2\n",
    "\n",
    "# Apply the transformations needed\n",
    "import torchvision.transforms as T\n",
    "\n",
    "# Define the helper function\n",
    "def decode_segmap(image, source, nc=21):\n",
    "    label_colors = np.array([(0, 0, 0),  # 0=background\n",
    "                             # 1=aeroplane, 2=bicycle, 3=bird, 4=boat, 5=bottle\n",
    "                             (128, 0, 0), (0, 128, 0), (128, 128, 0), (0, 0, 128), (128, 0, 128),\n",
    "                             # 6=bus, 7=car, 8=cat, 9=chair, 10=cow\n",
    "                             (0, 128, 128), (128, 128, 128), (64, 0, 0), (192, 0, 0), (64, 128, 0),\n",
    "                             # 11=dining table, 12=dog, 13=horse, 14=motorbike, 15=person\n",
    "                             (192, 128, 0), (64, 0, 128), (192, 0, 128), (64, 128, 128), (192, 128, 128),\n",
    "                             # 16=potted plant, 17=sheep, 18=sofa, 19=train, 20=tv/monitor\n",
    "                             (0, 64, 0), (128, 64, 0), (0, 192, 0), (128, 192, 0), (0, 64, 128)])\n",
    "    r = np.zeros_like(image).astype(np.uint8)\n",
    "    g = np.zeros_like(image).astype(np.uint8)\n",
    "    b = np.zeros_like(image).astype(np.uint8)\n",
    "    for l in range(0, nc):\n",
    "        idx = image == l\n",
    "        r[idx] = label_colors[l, 0]\n",
    "        g[idx] = label_colors[l, 1]\n",
    "        b[idx] = label_colors[l, 2]\n",
    "    rgb = np.stack([r, g, b], axis=2)\n",
    "    # Load the foreground input image\n",
    "    foreground = cv2.imread(source)\n",
    "    print('foreground1')\n",
    "    print(foreground)\n",
    "    # Change the color of foreground image to RGB\n",
    "    # and resize image to match shape of R-band in RGB output map\n",
    "    foreground = cv2.cvtColor(foreground, cv2.COLOR_BGR2RGB)\n",
    "    foreground = cv2.resize(foreground, (r.shape[1], r.shape[0]))\n",
    "    print('foreground2')\n",
    "    # Create a background array to hold white pixels\n",
    "    # with the same size as RGB output map\n",
    "    background = 255 * np.ones_like(rgb).astype(np.uint8)\n",
    "    # Convert uint8 to float\n",
    "    foreground = foreground.astype(float)\n",
    "    background = background.astype(float)\n",
    "    # Create a binary mask of the RGB output map using the threshold value 0\n",
    "    th, alpha = cv2.threshold(np.array(rgb), 0, 255, cv2.THRESH_BINARY)\n",
    "    # Apply a slight blur to the mask to soften edges\n",
    "    print('alpha1')\n",
    "    print(alpha)\n",
    "    alpha = cv2.GaussianBlur(alpha, (7, 7), 0)\n",
    "    print('alpha2')\n",
    "    print(alpha)\n",
    "    # Normalize the alpha mask to keep intensity between 0 and 1\n",
    "    alpha = alpha.astype(float) / 255\n",
    "    print('alpha3')\n",
    "    print(alpha)\n",
    "    # Multiply the foreground with the alpha matte\n",
    "    foreground = cv2.multiply(alpha, foreground)\n",
    "    # Multiply the background with ( 1 - alpha )\n",
    "    background = cv2.multiply(1.0 - alpha, background)\n",
    "    # Add the masked foreground and background\n",
    "    outImage = cv2.add(foreground, background)\n",
    "    # Return a normalized output image for display\n",
    "    # return outImage.astype(int)\n",
    "    return outImage / 255\n",
    "\n",
    "\n",
    "def segment(net, path, show_orig=True, dev='cuda'):\n",
    "    img = Image.open(path)\n",
    "    if show_orig:\n",
    "        plt.imshow(img)\n",
    "        plt.axis('off')\n",
    "        plt.show()\n",
    "    # Comment the Resize and CenterCrop for better inference results\n",
    "    trf = T.Compose([T.Resize(450),\n",
    "                     # T.CenterCrop(224),\n",
    "                     T.ToTensor(),\n",
    "                     T.Normalize(mean=[0.485, 0.456, 0.406],\n",
    "                                 std=[0.229, 0.224, 0.225])])\n",
    "    inp = trf(img).unsqueeze(0).to(dev)\n",
    "    out = net.to(dev)(inp)['out']\n",
    "    om = torch.argmax(out.squeeze(), dim=0).detach().cpu().numpy()\n",
    "    rgb = decode_segmap(om, path)\n",
    "    plt.imshow(rgb)\n",
    "    plt.axis('off')\n",
    "    plt.show()\n",
    "\n",
    "dlab = models.segmentation.deeplabv3_resnet101(pretrained=1).eval()\n",
    "segment(dlab, 'bluecar.png', show_orig=False)"
   ]
  },
  {
   "cell_type": "code",
   "execution_count": null,
   "outputs": [],
   "source": [],
   "metadata": {
    "collapsed": false
   }
  }
 ],
 "metadata": {
  "kernelspec": {
   "display_name": "Python 3",
   "language": "python",
   "name": "python3"
  },
  "language_info": {
   "codemirror_mode": {
    "name": "ipython",
    "version": 2
   },
   "file_extension": ".py",
   "mimetype": "text/x-python",
   "name": "python",
   "nbconvert_exporter": "python",
   "pygments_lexer": "ipython2",
   "version": "2.7.6"
  }
 },
 "nbformat": 4,
 "nbformat_minor": 0
}
