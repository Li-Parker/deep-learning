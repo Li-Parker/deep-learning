{
 "cells": [
  {
   "cell_type": "code",
   "execution_count": 1,
   "metadata": {
    "collapsed": true,
    "ExecuteTime": {
     "end_time": "2024-07-12T08:03:49.547327300Z",
     "start_time": "2024-07-12T08:03:46.925956500Z"
    }
   },
   "outputs": [],
   "source": [
    "import torch"
   ]
  },
  {
   "cell_type": "code",
   "execution_count": 12,
   "outputs": [
    {
     "name": "stdout",
     "output_type": "stream",
     "text": [
      "2.0.0\n",
      "True\n",
      "cuda:0\n"
     ]
    }
   ],
   "source": [
    "print(torch.version.__version__)\n",
    "print(torch.cuda.is_available())\n",
    "device = torch.device('cuda:0' if torch.cuda.is_available() else 'cpu')\n",
    "print(device)"
   ],
   "metadata": {
    "collapsed": false,
    "ExecuteTime": {
     "end_time": "2024-07-12T08:07:24.789358700Z",
     "start_time": "2024-07-12T08:07:24.771357500Z"
    }
   }
  },
  {
   "cell_type": "code",
   "execution_count": 16,
   "outputs": [
    {
     "name": "stdout",
     "output_type": "stream",
     "text": [
      "tensor([[1., 1., 1.]])\n",
      "tensor([1., 1., 1.])\n",
      "tensor([[0.4042, 0.6033, 0.7122]], device='cuda:0')\n",
      "tensor([[1., 1., 1.],\n",
      "        [1., 1., 1.],\n",
      "        [1., 1., 1.]], device='cuda:0')\n",
      "tensor([[0.4042, 0.6033, 0.7122],\n",
      "        [0.4042, 0.6033, 0.7122],\n",
      "        [0.4042, 0.6033, 0.7122]], device='cuda:0')\n"
     ]
    }
   ],
   "source": [
    "print(torch.ones(1,3))\n",
    "print(torch.ones(3))\n",
    "a = torch.rand(1,3).to(device)\n",
    "b = torch.ones(3,3).to(device)\n",
    "print(a)\n",
    "print(b)\n",
    "print(a*b)"
   ],
   "metadata": {
    "collapsed": false,
    "ExecuteTime": {
     "end_time": "2024-07-12T08:09:24.672309600Z",
     "start_time": "2024-07-12T08:09:24.642309900Z"
    }
   }
  },
  {
   "cell_type": "code",
   "execution_count": 8,
   "outputs": [
    {
     "data": {
      "text/plain": "True"
     },
     "execution_count": 8,
     "metadata": {},
     "output_type": "execute_result"
    }
   ],
   "source": [],
   "metadata": {
    "collapsed": false,
    "ExecuteTime": {
     "end_time": "2024-07-12T08:05:24.386021300Z",
     "start_time": "2024-07-12T08:05:24.348761100Z"
    }
   }
  },
  {
   "cell_type": "code",
   "execution_count": 11,
   "outputs": [
    {
     "name": "stdout",
     "output_type": "stream",
     "text": [
      "tensor([[[0.3324, 0.5671, 0.1196],\n",
      "         [0.7977, 0.0242, 0.6657],\n",
      "         [0.2396, 0.1634, 0.2275]]])\n",
      "tensor([[[-0.0292,  0.1576, -0.0564,  0.0427, -0.0045,  0.0098],\n",
      "         [ 0.0511, -0.0617, -0.0137, -0.1888,  0.0510, -0.0666],\n",
      "         [-0.0831,  0.0190,  0.0065,  0.1818, -0.0678,  0.0122],\n",
      "         [-0.0086, -0.2664,  0.0198,  0.0785, -0.0037, -0.2191],\n",
      "         [-0.0184,  0.0526, -0.0096,  0.0689, -0.0170,  0.0103],\n",
      "         [-0.0011, -0.0446,  0.0022, -0.0106, -0.0006, -0.0644]]],\n",
      "       grad_fn=<SqueezeBackward1>)\n",
      "tensor([[[[0.4791, 0.2852],\n",
      "          [0.6839, 0.9076]],\n",
      "\n",
      "         [[0.4791, 0.2852],\n",
      "          [0.6839, 0.9076]]],\n",
      "\n",
      "\n",
      "        [[[0.4791, 0.2852],\n",
      "          [0.6839, 0.9076]],\n",
      "\n",
      "         [[0.4791, 0.2852],\n",
      "          [0.6839, 0.9076]]]], dtype=torch.float64)\n",
      "[[[1 1]\n",
      "  [1 1]]\n",
      "\n",
      " [[1 1]\n",
      "  [1 1]]]\n",
      "tensor([[[1, 1],\n",
      "         [1, 1]],\n",
      "\n",
      "        [[1, 1],\n",
      "         [1, 1]]])\n"
     ]
    }
   ],
   "source": [
    "import torch.nn as nn\n",
    "import torch\n",
    "a = torch.rand(size=(1,3,3))\n",
    "print(a)\n",
    "tmp = nn.ConvTranspose2d(1,1,kernel_size=3,stride=2,padding=1,output_padding=1)\n",
    "print(tmp(a))\n",
    "import numpy\n",
    "b = numpy.random.random(size=(2,2))\n",
    "c = torch.tensor([[b,b],[b,b]])\n",
    "print(c)\n",
    "d = torch.tensor([[1,1],[1,1]]).numpy()\n",
    "print(numpy.array([d,d]))\n",
    "e = torch.tensor([d,d])\n",
    "print(e)"
   ],
   "metadata": {
    "collapsed": false,
    "ExecuteTime": {
     "end_time": "2024-07-17T10:57:00.740328800Z",
     "start_time": "2024-07-17T10:57:00.719399700Z"
    }
   }
  },
  {
   "cell_type": "code",
   "execution_count": 27,
   "outputs": [
    {
     "name": "stdout",
     "output_type": "stream",
     "text": [
      "tensor([[1, 2],\n",
      "        [1, 2]], device='cuda:0')\n",
      "tensor([[1, 2, 1, 2, 1, 2],\n",
      "        [1, 2, 1, 2, 1, 2],\n",
      "        [1, 2, 1, 2, 1, 2],\n",
      "        [1, 2, 1, 2, 1, 2]], device='cuda:0')\n"
     ]
    }
   ],
   "source": [
    "a = torch.tensor([[1,2],[1,2]]).cuda()\n",
    "print(a)\n",
    "b = torch.tile(a,(2,3))"
   ],
   "metadata": {
    "collapsed": false,
    "ExecuteTime": {
     "end_time": "2024-07-17T16:09:30.286560900Z",
     "start_time": "2024-07-17T16:09:30.264828900Z"
    }
   }
  },
  {
   "cell_type": "code",
   "execution_count": null,
   "outputs": [],
   "source": [],
   "metadata": {
    "collapsed": false
   }
  }
 ],
 "metadata": {
  "kernelspec": {
   "display_name": "Python 3",
   "language": "python",
   "name": "python3"
  },
  "language_info": {
   "codemirror_mode": {
    "name": "ipython",
    "version": 2
   },
   "file_extension": ".py",
   "mimetype": "text/x-python",
   "name": "python",
   "nbconvert_exporter": "python",
   "pygments_lexer": "ipython2",
   "version": "2.7.6"
  }
 },
 "nbformat": 4,
 "nbformat_minor": 0
}
