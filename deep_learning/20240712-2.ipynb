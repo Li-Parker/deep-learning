{
 "cells": [
  {
   "cell_type": "code",
   "execution_count": 1,
   "metadata": {
    "collapsed": true,
    "ExecuteTime": {
     "end_time": "2024-07-12T08:03:49.547327300Z",
     "start_time": "2024-07-12T08:03:46.925956500Z"
    }
   },
   "outputs": [],
   "source": [
    "import torch"
   ]
  },
  {
   "cell_type": "code",
   "execution_count": 12,
   "outputs": [
    {
     "name": "stdout",
     "output_type": "stream",
     "text": [
      "2.0.0\n",
      "True\n",
      "cuda:0\n"
     ]
    }
   ],
   "source": [
    "print(torch.version.__version__)\n",
    "print(torch.cuda.is_available())\n",
    "device = torch.device('cuda:0' if torch.cuda.is_available() else 'cpu')\n",
    "print(device)"
   ],
   "metadata": {
    "collapsed": false,
    "ExecuteTime": {
     "end_time": "2024-07-12T08:07:24.789358700Z",
     "start_time": "2024-07-12T08:07:24.771357500Z"
    }
   }
  },
  {
   "cell_type": "code",
   "execution_count": 16,
   "outputs": [
    {
     "name": "stdout",
     "output_type": "stream",
     "text": [
      "tensor([[1., 1., 1.]])\n",
      "tensor([1., 1., 1.])\n",
      "tensor([[0.4042, 0.6033, 0.7122]], device='cuda:0')\n",
      "tensor([[1., 1., 1.],\n",
      "        [1., 1., 1.],\n",
      "        [1., 1., 1.]], device='cuda:0')\n",
      "tensor([[0.4042, 0.6033, 0.7122],\n",
      "        [0.4042, 0.6033, 0.7122],\n",
      "        [0.4042, 0.6033, 0.7122]], device='cuda:0')\n"
     ]
    }
   ],
   "source": [
    "print(torch.ones(1,3))\n",
    "print(torch.ones(3))\n",
    "a = torch.rand(1,3).to(device)\n",
    "b = torch.ones(3,3).to(device)\n",
    "print(a)\n",
    "print(b)\n",
    "print(a*b)"
   ],
   "metadata": {
    "collapsed": false,
    "ExecuteTime": {
     "end_time": "2024-07-12T08:09:24.672309600Z",
     "start_time": "2024-07-12T08:09:24.642309900Z"
    }
   }
  },
  {
   "cell_type": "code",
   "execution_count": 8,
   "outputs": [
    {
     "data": {
      "text/plain": "True"
     },
     "execution_count": 8,
     "metadata": {},
     "output_type": "execute_result"
    }
   ],
   "source": [],
   "metadata": {
    "collapsed": false,
    "ExecuteTime": {
     "end_time": "2024-07-12T08:05:24.386021300Z",
     "start_time": "2024-07-12T08:05:24.348761100Z"
    }
   }
  },
  {
   "cell_type": "code",
   "execution_count": 4,
   "outputs": [
    {
     "name": "stdout",
     "output_type": "stream",
     "text": [
      "tensor([[[0.2850, 0.6127, 0.5854],\n",
      "         [0.8469, 0.2373, 0.6991],\n",
      "         [0.1028, 0.4091, 0.7983]]])\n",
      "tensor([[[ 0.3449,  0.1095,  0.3901,  0.1055,  0.3864,  0.2838],\n",
      "         [-0.0015,  0.3721,  0.0575,  0.3323, -0.0545,  0.3331],\n",
      "         [ 0.4224,  0.2022,  0.3384,  0.0851,  0.4020,  0.2795],\n",
      "         [ 0.0213,  0.2597,  0.1269,  0.4197, -0.1149,  0.3327],\n",
      "         [ 0.3198,  0.1779,  0.3621,  0.0487,  0.4157,  0.2758],\n",
      "         [ 0.2744,  0.2387,  0.1812,  0.1455,  0.0628,  0.1923]]],\n",
      "       grad_fn=<SqueezeBackward1>)\n"
     ]
    }
   ],
   "source": [
    "import torch.nn as nn\n",
    "import torch\n",
    "a = torch.rand(size=(1,3,3))\n",
    "print(a)\n",
    "tmp = nn.ConvTranspose2d(1,1,kernel_size=3,stride=2,padding=1,output_padding=1)\n",
    "print(tmp(a))"
   ],
   "metadata": {
    "collapsed": false,
    "ExecuteTime": {
     "end_time": "2024-07-16T17:44:39.936301200Z",
     "start_time": "2024-07-16T17:44:39.912796800Z"
    }
   }
  },
  {
   "cell_type": "code",
   "execution_count": null,
   "outputs": [],
   "source": [],
   "metadata": {
    "collapsed": false
   }
  }
 ],
 "metadata": {
  "kernelspec": {
   "display_name": "Python 3",
   "language": "python",
   "name": "python3"
  },
  "language_info": {
   "codemirror_mode": {
    "name": "ipython",
    "version": 2
   },
   "file_extension": ".py",
   "mimetype": "text/x-python",
   "name": "python",
   "nbconvert_exporter": "python",
   "pygments_lexer": "ipython2",
   "version": "2.7.6"
  }
 },
 "nbformat": 4,
 "nbformat_minor": 0
}
