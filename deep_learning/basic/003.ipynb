{
 "cells": [
  {
   "cell_type": "code",
   "execution_count": 1,
   "metadata": {
    "collapsed": true,
    "ExecuteTime": {
     "end_time": "2024-07-13T04:11:24.516083400Z",
     "start_time": "2024-07-13T04:11:19.462479100Z"
    }
   },
   "outputs": [],
   "source": [
    "import torch"
   ]
  },
  {
   "cell_type": "markdown",
   "source": [
    "# <a href=\"https://www.cnblogs.com/flix/p/11262606.html\">torch.sum() 和 dim维度</a>"
   ],
   "metadata": {
    "collapsed": false
   }
  },
  {
   "cell_type": "code",
   "execution_count": 9,
   "outputs": [
    {
     "name": "stdout",
     "output_type": "stream",
     "text": [
      "tensor([[[ 0,  0,  0],\n",
      "         [-1,  0,  0],\n",
      "         [ 1,  0,  0]],\n",
      "\n",
      "        [[ 2,  0,  0],\n",
      "         [ 0,  0,  0],\n",
      "         [ 0, -1,  0]],\n",
      "\n",
      "        [[ 0,  1,  0],\n",
      "         [-1,  0,  0],\n",
      "         [ 0,  1, -1]]], dtype=torch.int32)\n",
      "tensor([[ 2,  1,  0],\n",
      "        [-2,  0,  0],\n",
      "        [ 1,  0, -1]])\n",
      "tensor([[ 0,  0,  0],\n",
      "        [ 2, -1,  0],\n",
      "        [-1,  2, -1]])\n",
      "tensor([[ 0, -1,  1],\n",
      "        [ 2,  0, -1],\n",
      "        [ 1, -1,  0]])\n",
      "tensor([[[ 0],\n",
      "         [-1],\n",
      "         [ 1]],\n",
      "\n",
      "        [[ 2],\n",
      "         [ 0],\n",
      "         [-1]],\n",
      "\n",
      "        [[ 1],\n",
      "         [-1],\n",
      "         [ 0]]])\n"
     ]
    }
   ],
   "source": [
    "a = torch.randn(3,3,3).type(torch.int)\n",
    "print(a)\n",
    "print(torch.sum(a,dim=0))\n",
    "print(torch.sum(a,dim=1))\n",
    "print(torch.sum(a,dim=2))\n",
    "print(torch.sum(a,dim=2,keepdim=True))"
   ],
   "metadata": {
    "collapsed": false,
    "ExecuteTime": {
     "end_time": "2024-07-13T04:19:37.271732900Z",
     "start_time": "2024-07-13T04:19:37.260765600Z"
    }
   }
  },
  {
   "cell_type": "markdown",
   "source": [
    "# <a href=\"https://blog.csdn.net/zhanly19/article/details/96428781#:~:text=torch.ca,%E6%8E%A5%EF%BC%8C%E8%81%94%E7%B3%BB%E5%9C%A8%E4%B8%80%E8%B5%B7%E3%80%82\">torch.cat()</a>\n",
    "\n",
    "torch.cat是将两个张量（tensor）拼接在一起，cat是concatnate的意思，即拼接，联系在一起。"
   ],
   "metadata": {
    "collapsed": false
   }
  },
  {
   "cell_type": "code",
   "execution_count": 18,
   "outputs": [
    {
     "name": "stdout",
     "output_type": "stream",
     "text": [
      "tensor([[-0.1660, -0.8532, -0.9135],\n",
      "        [ 0.5546, -0.6163, -0.6082]])\n",
      "tensor([[1., 1., 1.],\n",
      "        [1., 1., 1.],\n",
      "        [1., 1., 1.],\n",
      "        [1., 1., 1.]])\n",
      "tensor([[0., 0., 0., 0.],\n",
      "        [0., 0., 0., 0.]])\n"
     ]
    }
   ],
   "source": [
    "a = torch.randn(2,3)\n",
    "b = torch.ones(4,3)\n",
    "c = torch.zeros(2,4)\n",
    "print(a)\n",
    "print(b)\n",
    "print(c)"
   ],
   "metadata": {
    "collapsed": false,
    "ExecuteTime": {
     "end_time": "2024-07-13T04:23:05.529474100Z",
     "start_time": "2024-07-13T04:23:05.513527700Z"
    }
   }
  },
  {
   "cell_type": "code",
   "execution_count": 22,
   "outputs": [
    {
     "name": "stdout",
     "output_type": "stream",
     "text": [
      "tensor([[-0.1660, -0.8532, -0.9135],\n",
      "        [ 0.5546, -0.6163, -0.6082],\n",
      "        [ 1.0000,  1.0000,  1.0000],\n",
      "        [ 1.0000,  1.0000,  1.0000],\n",
      "        [ 1.0000,  1.0000,  1.0000],\n",
      "        [ 1.0000,  1.0000,  1.0000]])\n",
      "tensor([[-0.1660, -0.8532, -0.9135,  0.0000,  0.0000,  0.0000,  0.0000],\n",
      "        [ 0.5546, -0.6163, -0.6082,  0.0000,  0.0000,  0.0000,  0.0000]])\n",
      "torch.Size([6, 3])\n",
      "torch.Size([2, 7])\n"
     ]
    }
   ],
   "source": [
    "d1 = torch.cat((a,b),dim=0)\n",
    "d2 = torch.cat((a,c),dim=1)\n",
    "print(d1)\n",
    "print(d2)\n",
    "print(d1.shape)\n",
    "print(d2.shape)"
   ],
   "metadata": {
    "collapsed": false,
    "ExecuteTime": {
     "end_time": "2024-07-13T04:24:00.834126800Z",
     "start_time": "2024-07-13T04:24:00.807008100Z"
    }
   }
  },
  {
   "cell_type": "markdown",
   "source": [
    "# torch.chunk(tensor, chunk_num, dim)\n",
    "\n",
    "torch.chunk(tensor, chunk_num, dim)与torch.cat()原理相反，它是将tensor按dim（行或列）分割成chunk_num个tensor块，返回的是一个元组。"
   ],
   "metadata": {
    "collapsed": false
   }
  },
  {
   "cell_type": "code",
   "execution_count": 23,
   "outputs": [
    {
     "name": "stdout",
     "output_type": "stream",
     "text": [
      "tensor([[-1.4541,  0.5118,  0.1173,  0.9414,  1.7789],\n",
      "        [-0.9237,  0.9312,  1.0057,  0.4389,  0.7286],\n",
      "        [-1.2944,  1.1962,  0.9248,  1.5500, -2.3437],\n",
      "        [-1.5479,  0.0630, -0.6642, -0.0241, -0.2590]])\n"
     ]
    }
   ],
   "source": [
    "a = torch.randn(4,5)\n",
    "print(a)"
   ],
   "metadata": {
    "collapsed": false,
    "ExecuteTime": {
     "end_time": "2024-07-13T04:25:14.613938500Z",
     "start_time": "2024-07-13T04:25:14.598989500Z"
    }
   }
  },
  {
   "cell_type": "code",
   "execution_count": 25,
   "outputs": [
    {
     "name": "stdout",
     "output_type": "stream",
     "text": [
      "tensor([[-1.2944,  1.1962,  0.9248,  1.5500, -2.3437],\n",
      "        [-1.5479,  0.0630, -0.6642, -0.0241, -0.2590]])\n"
     ]
    }
   ],
   "source": [
    "c = torch.chunk(input=a, chunks=2, dim=0)\n",
    "print(c[1])"
   ],
   "metadata": {
    "collapsed": false,
    "ExecuteTime": {
     "end_time": "2024-07-13T04:25:59.561301500Z",
     "start_time": "2024-07-13T04:25:59.554321400Z"
    }
   }
  },
  {
   "cell_type": "markdown",
   "source": [
    "# torch.einsum"
   ],
   "metadata": {
    "collapsed": false
   }
  },
  {
   "cell_type": "code",
   "execution_count": 37,
   "outputs": [
    {
     "name": "stdout",
     "output_type": "stream",
     "text": [
      "tensor([[1., 1., 1.],\n",
      "        [1., 1., 1.]])\n",
      "tensor([[1., 1.],\n",
      "        [1., 1.],\n",
      "        [1., 1.]])\n",
      "tensor([3., 3.])\n",
      "tensor([[3., 3.],\n",
      "        [3., 3.]])\n"
     ]
    }
   ],
   "source": [
    "a = torch.ones(2,3)\n",
    "print(a)\n",
    "b = torch.einsum(\"ij->ji\",a)\n",
    "print(b)\n",
    "c = torch.einsum(\"ij->i\",a)\n",
    "print(c)\n",
    "d = torch.einsum(\"ik,jk->ij\",a,a)\n",
    "print(d)"
   ],
   "metadata": {
    "collapsed": false,
    "ExecuteTime": {
     "end_time": "2024-07-13T17:06:50.234863900Z",
     "start_time": "2024-07-13T17:06:50.203229700Z"
    }
   }
  },
  {
   "cell_type": "markdown",
   "source": [],
   "metadata": {
    "collapsed": false
   }
  }
 ],
 "metadata": {
  "kernelspec": {
   "display_name": "Python 3",
   "language": "python",
   "name": "python3"
  },
  "language_info": {
   "codemirror_mode": {
    "name": "ipython",
    "version": 2
   },
   "file_extension": ".py",
   "mimetype": "text/x-python",
   "name": "python",
   "nbconvert_exporter": "python",
   "pygments_lexer": "ipython2",
   "version": "2.7.6"
  }
 },
 "nbformat": 4,
 "nbformat_minor": 0
}
