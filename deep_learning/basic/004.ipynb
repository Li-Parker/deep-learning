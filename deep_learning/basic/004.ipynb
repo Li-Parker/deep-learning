{
 "cells": [
  {
   "cell_type": "markdown",
   "source": [
    "# Argparse"
   ],
   "metadata": {
    "collapsed": false
   }
  },
  {
   "cell_type": "code",
   "execution_count": 5,
   "metadata": {
    "collapsed": true,
    "ExecuteTime": {
     "end_time": "2024-07-16T07:34:16.884102900Z",
     "start_time": "2024-07-16T07:34:16.880114100Z"
    }
   },
   "outputs": [
    {
     "name": "stderr",
     "output_type": "stream",
     "text": [
      "usage: ipykernel_launcher.py [-h] [--in_channels IN_CHANNELS]\n",
      "                             [--expect_result EXPECT_RESULT]\n",
      "ipykernel_launcher.py: error: unrecognized arguments: -f C:\\Users\\liyingda\\AppData\\Roaming\\jupyter\\runtime\\kernel-82292e25-0fe4-42f5-8fe9-b50e92c27285.json\n"
     ]
    },
    {
     "ename": "SystemExit",
     "evalue": "2",
     "output_type": "error",
     "traceback": [
      "An exception has occurred, use %tb to see the full traceback.\n",
      "\u001B[1;31mSystemExit\u001B[0m\u001B[1;31m:\u001B[0m 2\n"
     ]
    }
   ],
   "source": [
    "import argparse\n",
    "parser = argparse.ArgumentParser(description=\"测试\")\n",
    "\n",
    "parser.add_argument(\"--in_channels\", type=int, default=3, help=\"输入通道数\")\n",
    "parser.add_argument(\"--expect_result\", type=float, default=3.0, help=\"期望结果\")\n",
    "args = parser.parse_args()\n",
    "print(args.in_channels)\n",
    "print(args.expect_result)"
   ]
  },
  {
   "cell_type": "markdown",
   "source": [
    "# Numpy\n",
    "## numpy, tensor, cuda, cpu转换"
   ],
   "metadata": {
    "collapsed": false
   }
  },
  {
   "cell_type": "code",
   "execution_count": 12,
   "outputs": [
    {
     "name": "stdout",
     "output_type": "stream",
     "text": [
      "[2 3 4]\n",
      "tensor([2, 3, 4], dtype=torch.int32)\n",
      "tensor([2, 3, 4], device='cuda:0', dtype=torch.int32)\n",
      "tensor([2, 3, 4], device='cuda:0', dtype=torch.int32)\n",
      "tensor([2, 3, 4], dtype=torch.int32)\n"
     ]
    }
   ],
   "source": [
    "import numpy as np\n",
    "import torch\n",
    "import torch.nn as nn\n",
    "device = torch.device(\"cuda:0\" if torch.cuda.is_available() else \"cpu\")\n",
    "a = np.array([2,3,4])\n",
    "print(a)\n",
    "print(torch.tensor(a))\n",
    "print(torch.tensor(a).to(device))\n",
    "print(torch.tensor(a).cuda())\n",
    "print(torch.tensor(a).to(device).cpu())"
   ],
   "metadata": {
    "collapsed": false,
    "ExecuteTime": {
     "end_time": "2024-07-16T07:41:18.137216300Z",
     "start_time": "2024-07-16T07:41:18.123263Z"
    }
   }
  },
  {
   "cell_type": "code",
   "execution_count": 18,
   "outputs": [
    {
     "name": "stdout",
     "output_type": "stream",
     "text": [
      "[2, 3, 4]\n",
      "[2 3 4]\n",
      "tensor([2, 3, 4])\n",
      "tensor([2, 3, 4], dtype=torch.int32)\n",
      "[2 3 4]\n",
      "[2 3 4]\n",
      "[2 3 4]\n"
     ]
    }
   ],
   "source": [
    "b = [2,3,4]\n",
    "b1 = np.array(b)\n",
    "b2 = torch.tensor(b)\n",
    "b3 = torch.tensor(b1)\n",
    "\n",
    "b4 = b2.numpy()\n",
    "b5 = b3.numpy()\n",
    "b6 = np.array(b2)\n",
    "\n",
    "print(b)\n",
    "\n",
    "print(b1)\n",
    "print(b2)\n",
    "print(b3)\n",
    "\n",
    "print(b4)\n",
    "print(b5)\n",
    "print(b6)"
   ],
   "metadata": {
    "collapsed": false,
    "ExecuteTime": {
     "end_time": "2024-07-16T07:44:25.883226800Z",
     "start_time": "2024-07-16T07:44:25.874256Z"
    }
   }
  },
  {
   "cell_type": "code",
   "execution_count": 37,
   "outputs": [
    {
     "name": "stdout",
     "output_type": "stream",
     "text": [
      "[1, 2, 3]\n",
      "1. =========================================\n",
      "numpy [1 2 3]\n",
      "2. =========================================\n",
      "tensor tensor([1, 2, 3])\n",
      "3. =========================================\n",
      "cuda tensor([1, 2, 3], device='cuda:0')\n",
      "cuda tensor([1, 2, 3], device='cuda:0')\n",
      "4. =========================================\n",
      "[1 2 3]\n",
      "[1 2 3]\n",
      "[1 2 3]\n",
      "5. =========================================\n",
      "tensor([1, 2, 3])\n",
      "6. =========================================\n",
      "[1 2 3]\n"
     ]
    }
   ],
   "source": [
    "c = [1,2,3]\n",
    "print(c)\n",
    "\n",
    "\"定义numpy\"\n",
    "print(\"1. =========================================\")\n",
    "c1 = np.array(c)\n",
    "print(\"numpy\", c1)\n",
    "\n",
    "\"定义tensor\"\n",
    "print(\"2. =========================================\")\n",
    "c2 = torch.tensor(c)\n",
    "print(\"tensor\", c2)\n",
    "\n",
    "\"数据放在cuda上\"\n",
    "print(\"3. =========================================\")\n",
    "c3 = c2.to(device)\n",
    "print(\"cuda\", c3)\n",
    "c3 = c2.cuda()\n",
    "print(\"cuda\", c3)\n",
    "\n",
    "\"tensor -> numpy\"\n",
    "print(\"4. =========================================\")\n",
    "c4 = c2.numpy()\n",
    "print(c4)\n",
    "c4 = np.array(c2)\n",
    "print(c4)\n",
    "c4 = np.array(c3.cpu())\n",
    "print(c4)\n",
    "\n",
    "\"numpy -> tensor\"\n",
    "print(\"5. =========================================\")\n",
    "c5 = torch.tensor(c4)\n",
    "print(c5)\n",
    "\n",
    "\"Cuda转成Numpy ==> 转换为cpu中再转换为numpy\"\n",
    "print(\"6. =========================================\")\n",
    "c6 = c3.cpu().numpy()\n",
    "print(c6)"
   ],
   "metadata": {
    "collapsed": false,
    "ExecuteTime": {
     "end_time": "2024-07-16T08:00:27.441122100Z",
     "start_time": "2024-07-16T08:00:27.431062400Z"
    }
   }
  },
  {
   "cell_type": "markdown",
   "source": [
    "## numpy基本操作"
   ],
   "metadata": {
    "collapsed": false
   }
  },
  {
   "cell_type": "code",
   "execution_count": 53,
   "outputs": [
    {
     "name": "stdout",
     "output_type": "stream",
     "text": [
      "[[0. 0. 0.]\n",
      " [0. 0. 0.]]\n",
      "[[1. 1.]\n",
      " [1. 1.]]\n",
      "[[2 3]\n",
      " [3 4]]\n",
      "[[5.26354425e-315 8.50985311e-312 4.94065646e-324 0.00000000e+000\n",
      "  0.00000000e+000 0.00000000e+000 3.45845952e-323 3.95252517e-323\n",
      "  5.26354425e-315 8.50985312e-312]\n",
      " [4.94065646e-324 0.00000000e+000 0.00000000e+000 0.00000000e+000\n",
      "  3.45845952e-323 3.95252517e-323 0.00000000e+000 0.00000000e+000\n",
      "  0.00000000e+000 4.94065646e-324]]\n"
     ]
    }
   ],
   "source": [
    "import numpy as np\n",
    "d1 = np.zeros(shape=(2,3))\n",
    "d2 = np.ones(shape=(2,2))\n",
    "d3 = np.array([[2,3],[3,4]], dtype=int)\n",
    "d4 = np.empty(shape=(2,10))\n",
    "print(d1)\n",
    "print(d2)\n",
    "print(d3)\n",
    "print(d4)"
   ],
   "metadata": {
    "collapsed": false,
    "ExecuteTime": {
     "end_time": "2024-07-16T08:09:18.823750400Z",
     "start_time": "2024-07-16T08:09:18.814778500Z"
    }
   }
  },
  {
   "cell_type": "code",
   "execution_count": 70,
   "outputs": [
    {
     "name": "stdout",
     "output_type": "stream",
     "text": [
      "[[0.51290106 0.88719962 0.20940912 0.23657269]\n",
      " [0.68379249 0.86215535 0.04740442 0.9900932 ]\n",
      " [0.45628228 0.81428596 0.34215373 0.02693641]]\n",
      "[[0.4771609  0.49437108]\n",
      " [0.66119993 0.3937697 ]]\n",
      "[[-0.01449782 -0.30285786]\n",
      " [-1.26352175 -1.05793095]]\n",
      "[[3 4 4]\n",
      " [2 4 3]]\n"
     ]
    }
   ],
   "source": [
    "d5 = np.random.random((3,4))\n",
    "d6 = np.random.rand(2,2)\n",
    "d7 = np.random.randn(2,2)\n",
    "d8 = np.random.randint(2,5,size=(2,3))\n",
    "print(d5)\n",
    "print(d6)\n",
    "print(d7)\n",
    "print(d8)"
   ],
   "metadata": {
    "collapsed": false,
    "ExecuteTime": {
     "end_time": "2024-07-16T08:18:53.499218100Z",
     "start_time": "2024-07-16T08:18:53.482274800Z"
    }
   }
  },
  {
   "cell_type": "code",
   "execution_count": 78,
   "outputs": [
    {
     "name": "stdout",
     "output_type": "stream",
     "text": [
      "[2 3 4 5 6 7 8 9]\n",
      "[ 1.          1.47368421  1.94736842  2.42105263  2.89473684  3.36842105\n",
      "  3.84210526  4.31578947  4.78947368  5.26315789  5.73684211  6.21052632\n",
      "  6.68421053  7.15789474  7.63157895  8.10526316  8.57894737  9.05263158\n",
      "  9.52631579 10.        ]\n"
     ]
    }
   ],
   "source": [
    "e1 = np.arange(2,10,2)\n",
    "e2 = np.arange(2,10,1)\n",
    "\n",
    "# 创建线段型数据\n",
    "e3= np.linspace(1,10,20) # 开始端1，结束端10，且分割成20个数据，生成线段print(e1)\n",
    "print(e2)\n",
    "print(e3)"
   ],
   "metadata": {
    "collapsed": false,
    "ExecuteTime": {
     "end_time": "2024-07-16T08:20:47.579113Z",
     "start_time": "2024-07-16T08:20:47.568123500Z"
    }
   }
  },
  {
   "cell_type": "code",
   "execution_count": 91,
   "outputs": [
    {
     "name": "stdout",
     "output_type": "stream",
     "text": [
      "[7 2 9 7 6 9 3 4]\n",
      "[3 4 4 9 6 2 9 3]\n",
      "[[7 2 9 7 6 9 3 4]\n",
      " [3 4 4 9 6 2 9 3]]\n",
      "[[7 2 9 7]\n",
      " [6 9 3 4]]\n"
     ]
    }
   ],
   "source": [
    "import numpy as np\n",
    "a1 = np.random.randint(2,10,8)\n",
    "a2 = np.random.randint(2,10,8)\n",
    "print(a1)\n",
    "print(a2)\n",
    "\n",
    "a3 = np.array([a1,a2])\n",
    "a4 = a1.reshape((2,4))\n",
    "print(a3)\n",
    "print(a4)"
   ],
   "metadata": {
    "collapsed": false,
    "ExecuteTime": {
     "end_time": "2024-07-16T08:25:01.183072100Z",
     "start_time": "2024-07-16T08:25:01.179085100Z"
    }
   }
  },
  {
   "cell_type": "code",
   "execution_count": 92,
   "outputs": [
    {
     "name": "stdout",
     "output_type": "stream",
     "text": [
      "[[4 7 7 2]\n",
      " [4 7 1 3]]\n",
      "[[4 4]\n",
      " [7 7]\n",
      " [7 1]\n",
      " [2 3]]\n"
     ]
    }
   ],
   "source": [
    "\"数组转置\"\n",
    "a = np.random.randint(1,10,(2,4))\n",
    "b = a.T\n",
    "print(a)\n",
    "print(b)"
   ],
   "metadata": {
    "collapsed": false,
    "ExecuteTime": {
     "end_time": "2024-07-16T08:26:21.610793600Z",
     "start_time": "2024-07-16T08:26:21.598840300Z"
    }
   }
  },
  {
   "cell_type": "code",
   "execution_count": 101,
   "outputs": [
    {
     "name": "stdout",
     "output_type": "stream",
     "text": [
      "1\n",
      "2\n",
      "(3,)\n",
      "(2, 3)\n",
      "3\n",
      "6\n",
      "int32\n",
      "[3 4 7 2]\n"
     ]
    }
   ],
   "source": [
    "a = np.array([1,2,3])\n",
    "b = np.array([[1,2,3],[1,2,3]])\n",
    "print(a.ndim)\n",
    "print(b.ndim)\n",
    "print(a.shape)\n",
    "print(b.shape)\n",
    "print(a.size) # 元素个数\n",
    "print(b.size)\n",
    "print(a.dtype) # 元素类型\n",
    "print(np.random.randint(1,10,(4,)))"
   ],
   "metadata": {
    "collapsed": false,
    "ExecuteTime": {
     "end_time": "2024-07-16T08:28:21.549828900Z",
     "start_time": "2024-07-16T08:28:21.527896300Z"
    }
   }
  },
  {
   "cell_type": "code",
   "execution_count": 105,
   "outputs": [
    {
     "name": "stdout",
     "output_type": "stream",
     "text": [
      "[1. 1. 1.]\n",
      "[1.47274973 1.72300539 1.74211524]\n"
     ]
    }
   ],
   "source": [
    "\"数组的运算\"\n",
    "a1 = np.zeros((3,))\n",
    "a2 = np.ones((3,))\n",
    "a3 = np.random.random(size=(3,))\n",
    "print(a1+a2)\n",
    "print(a1+a2+a3)"
   ],
   "metadata": {
    "collapsed": false,
    "ExecuteTime": {
     "end_time": "2024-07-16T08:29:33.072486800Z",
     "start_time": "2024-07-16T08:29:33.058534500Z"
    }
   }
  },
  {
   "cell_type": "code",
   "execution_count": 112,
   "outputs": [
    {
     "name": "stdout",
     "output_type": "stream",
     "text": [
      "[0. 1. 1.]\n",
      "[1 2 3]\n",
      "[0. 2. 3.]\n",
      "5.0\n"
     ]
    }
   ],
   "source": [
    "a1 = np.ones((3,))\n",
    "a1[0] = 0\n",
    "print(a1)\n",
    "a2 = np.array([1,2,3])\n",
    "print(a2)\n",
    "print(a1*a2)\n",
    "print(a1@a2)"
   ],
   "metadata": {
    "collapsed": false,
    "ExecuteTime": {
     "end_time": "2024-07-16T08:31:20.587411700Z",
     "start_time": "2024-07-16T08:31:20.575849900Z"
    }
   }
  },
  {
   "cell_type": "code",
   "execution_count": 125,
   "outputs": [
    {
     "name": "stdout",
     "output_type": "stream",
     "text": [
      "[3 1 2]\n",
      "2.0\n",
      "3\n",
      "2.0\n",
      "6\n",
      "[3 4 6]\n"
     ]
    }
   ],
   "source": [
    "a = np.random.randint(1,5,size=(3,))\n",
    "print(a)\n",
    "print(np.mean(a))\n",
    "print(np.max(a))\n",
    "print(np.median(a))\n",
    "print(np.prod(a))\n",
    "print(np.cumsum(a))  ## [1,3,2] => [1,1+3,1+3+2] => [1,4,6]"
   ],
   "metadata": {
    "collapsed": false,
    "ExecuteTime": {
     "end_time": "2024-07-16T08:38:04.494319700Z",
     "start_time": "2024-07-16T08:38:04.482356600Z"
    }
   }
  },
  {
   "cell_type": "code",
   "execution_count": 124,
   "outputs": [
    {
     "data": {
      "text/plain": "'\"\\n计算数组的标准差\\nnumpy.std(arr, axis=None, dtype=None, out=None): 计算数组的标准差。参数axis、dtype和out的含义与numpy.mean()相同。\\n\\n计算数组的方差\\nnumpy.var(arr, axis=None, dtype=None, out=None): 计算数组的方差。参数axis、dtype和out的含义与numpy.mean()相同。\\n\\n 计算数组的最小值\\nnumpy.min(arr, axis=None, out=None): 计算数组的最小值。参数axis和out的含义与numpy.mean()相同。\\n\\n 计算数组的最大值\\nnumpy.max(arr, axis=None, out=None): 计算数组的最大值。参数axis和out的含义与numpy.mean()相同\\n\\n计算数组的元素之和\\nnumpy.sum(arr, axis=None, dtype=None, out=None): 计算数组的元素之和。参数axis、dtype和out的含义与numpy.mean()相同。\\n\\n计算数组的元素乘积\\nnumpy.prod(arr, axis=None, dtype=None, out=None): 计算数组的元素乘积。参数axis、dtype和out的含义与numpy.mean()相同\\n\\n计算数组的累积和\\nnumpy.cumsum(arr, axis=None, dtype=None, out=None): 计算数组的累积和。参数axis、dtype和out的含义与numpy.mean()相同。\\n'"
     },
     "execution_count": 124,
     "metadata": {},
     "output_type": "execute_result"
    }
   ],
   "source": [
    "\"\"\"\"\n",
    "计算数组的标准差\n",
    "numpy.std(arr, axis=None, dtype=None, out=None): 计算数组的标准差。参数axis、dtype和out的含义与numpy.mean()相同。\n",
    "\n",
    "计算数组的方差\n",
    "numpy.var(arr, axis=None, dtype=None, out=None): 计算数组的方差。参数axis、dtype和out的含义与numpy.mean()相同。\n",
    "\n",
    " 计算数组的最小值\n",
    "numpy.min(arr, axis=None, out=None): 计算数组的最小值。参数axis和out的含义与numpy.mean()相同。\n",
    "\n",
    " 计算数组的最大值\n",
    "numpy.max(arr, axis=None, out=None): 计算数组的最大值。参数axis和out的含义与numpy.mean()相同\n",
    "\n",
    "计算数组的元素之和\n",
    "numpy.sum(arr, axis=None, dtype=None, out=None): 计算数组的元素之和。参数axis、dtype和out的含义与numpy.mean()相同。\n",
    "\n",
    "计算数组的元素乘积\n",
    "numpy.prod(arr, axis=None, dtype=None, out=None): 计算数组的元素乘积。参数axis、dtype和out的含义与numpy.mean()相同\n",
    "\n",
    "计算数组的累积和\n",
    "numpy.cumsum(arr, axis=None, dtype=None, out=None): 计算数组的累积和。参数axis、dtype和out的含义与numpy.mean()相同。\n",
    "\"\"\""
   ],
   "metadata": {
    "collapsed": false,
    "ExecuteTime": {
     "end_time": "2024-07-16T08:35:44.020045600Z",
     "start_time": "2024-07-16T08:35:44.003102100Z"
    }
   }
  },
  {
   "cell_type": "code",
   "execution_count": 129,
   "outputs": [
    {
     "name": "stdout",
     "output_type": "stream",
     "text": [
      "[7 4 2 4 6 5 5 3]\n",
      "[4 2 4 6 5 5 3]\n",
      "[7 4]\n"
     ]
    }
   ],
   "source": [
    "\"数组的索引和切片\"\n",
    "a = np.random.randint(1,10,size=(8,))\n",
    "print(a)\n",
    "print(a[1:])\n",
    "print(a[:2])"
   ],
   "metadata": {
    "collapsed": false,
    "ExecuteTime": {
     "end_time": "2024-07-16T08:39:15.558855400Z",
     "start_time": "2024-07-16T08:39:15.552876400Z"
    }
   }
  },
  {
   "cell_type": "code",
   "execution_count": 138,
   "outputs": [
    {
     "name": "stdout",
     "output_type": "stream",
     "text": [
      "[[[1 7 8]\n",
      "  [8 3 1]]\n",
      "\n",
      " [[4 1 7]\n",
      "  [6 1 8]]]\n",
      "[[[1 7 8]\n",
      "  [8 3 1]]]\n",
      "[[[1 7 8]]]\n",
      "[[1]]\n"
     ]
    }
   ],
   "source": [
    "b = np.random.randint(1,10,size=(2,2,3))\n",
    "print(b)\n",
    "\"行切片\"\n",
    "print(b[0:1])\n",
    "print(b[0:1,0:1])\n",
    "print(b[0:1,0:1,0:1].reshape((1,1,)))\n"
   ],
   "metadata": {
    "collapsed": false,
    "ExecuteTime": {
     "end_time": "2024-07-16T08:42:15.334751600Z",
     "start_time": "2024-07-16T08:42:15.321632400Z"
    }
   }
  },
  {
   "cell_type": "code",
   "execution_count": 146,
   "outputs": [
    {
     "name": "stdout",
     "output_type": "stream",
     "text": [
      "[[[8 4 1 9 9 5 4 8]\n",
      "  [3 8 5 6 8 6 1 6]]\n",
      "\n",
      " [[3 1 3 7 8 9 2 2]\n",
      "  [5 7 8 4 2 4 5 8]]]\n",
      "[[[8 4 1 9 9 5 4 8]\n",
      "  [3 8 5 6 8 6 1 6]]\n",
      "\n",
      " [[3 1 3 7 8 9 2 2]\n",
      "  [5 7 8 4 2 4 5 8]]]\n",
      "[[[8]\n",
      "  [3]]\n",
      "\n",
      " [[3]\n",
      "  [5]]]\n"
     ]
    }
   ],
   "source": [
    "\"列切片\"\n",
    "a = np.random.randint(1,10,size=(2,2,8))\n",
    "print(a)\n",
    "print(a[:,])\n",
    "print(a[:,:,0:1])"
   ],
   "metadata": {
    "collapsed": false,
    "ExecuteTime": {
     "end_time": "2024-07-16T08:44:26.939853900Z",
     "start_time": "2024-07-16T08:44:26.929888100Z"
    }
   }
  },
  {
   "cell_type": "code",
   "execution_count": 155,
   "outputs": [
    {
     "name": "stdout",
     "output_type": "stream",
     "text": [
      "[[1 2 3]\n",
      " [4 5 6]]\n",
      "[1 2 3 4 5 6]\n",
      "[[1 2 3]\n",
      " [4 5 6]\n",
      " [7 8 9]]\n",
      "[array([[1, 2, 3]]), array([[4, 5, 6]]), array([[7, 8, 9]])]\n",
      "[array([[1],\n",
      "       [4],\n",
      "       [7]]), array([[2],\n",
      "       [5],\n",
      "       [8]]), array([[3],\n",
      "       [6],\n",
      "       [9]])]\n"
     ]
    }
   ],
   "source": [
    "\"数组堆叠\"\n",
    "a1 = np.array([1,2,3])\n",
    "a2 = np.array([4,5,6])\n",
    "a3 = np.array([[1,2,3],[4,5,6],[7,8,9]])\n",
    "print(np.vstack((a1, a2)))\n",
    "print(np.hstack((a1, a2)))\n",
    "print(a3)\n",
    "print(np.vsplit(a3,3))\n",
    "print(np.hsplit(a3, 3))"
   ],
   "metadata": {
    "collapsed": false,
    "ExecuteTime": {
     "end_time": "2024-07-16T08:48:39.896540900Z",
     "start_time": "2024-07-16T08:48:39.874111900Z"
    }
   }
  },
  {
   "cell_type": "code",
   "execution_count": null,
   "outputs": [],
   "source": [
    "\"\"\"\n",
    "# 保存数组到文件\n",
    "np.save('my_array.npy', data)\n",
    "\n",
    "# 加载数组\n",
    "loaded_data = np.load('my_array.npy')\n",
    "\"\"\""
   ],
   "metadata": {
    "collapsed": false
   }
  }
 ],
 "metadata": {
  "kernelspec": {
   "display_name": "Python 3",
   "language": "python",
   "name": "python3"
  },
  "language_info": {
   "codemirror_mode": {
    "name": "ipython",
    "version": 2
   },
   "file_extension": ".py",
   "mimetype": "text/x-python",
   "name": "python",
   "nbconvert_exporter": "python",
   "pygments_lexer": "ipython2",
   "version": "2.7.6"
  }
 },
 "nbformat": 4,
 "nbformat_minor": 0
}
