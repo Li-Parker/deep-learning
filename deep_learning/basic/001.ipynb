{
 "cells": [
  {
   "cell_type": "code",
   "execution_count": 8,
   "metadata": {
    "collapsed": true,
    "ExecuteTime": {
     "end_time": "2024-07-12T08:18:28.931736100Z",
     "start_time": "2024-07-12T08:18:28.928736300Z"
    }
   },
   "outputs": [],
   "source": [
    "import torch"
   ]
  },
  {
   "cell_type": "code",
   "execution_count": 9,
   "outputs": [
    {
     "name": "stdout",
     "output_type": "stream",
     "text": [
      "2.0.0\n",
      "True\n",
      "cuda:0\n"
     ]
    }
   ],
   "source": [
    "print(torch.version.__version__)\n",
    "print(torch.cuda.is_available())\n",
    "device = torch.device('cuda:0' if torch.cuda.is_available() else 'cpu')\n",
    "print(device)"
   ],
   "metadata": {
    "collapsed": false,
    "ExecuteTime": {
     "end_time": "2024-07-12T08:18:28.951165200Z",
     "start_time": "2024-07-12T08:18:28.932736500Z"
    }
   }
  },
  {
   "cell_type": "code",
   "execution_count": 10,
   "outputs": [
    {
     "name": "stdout",
     "output_type": "stream",
     "text": [
      "tensor([[1., 1., 1.]])\n",
      "tensor([1., 1., 1.])\n",
      "tensor([[0.9220, 0.4005, 0.3144]], device='cuda:0')\n",
      "tensor([[1., 1., 1.],\n",
      "        [1., 1., 1.],\n",
      "        [1., 1., 1.]], device='cuda:0')\n",
      "tensor([[0.9220, 0.4005, 0.3144],\n",
      "        [0.9220, 0.4005, 0.3144],\n",
      "        [0.9220, 0.4005, 0.3144]], device='cuda:0')\n"
     ]
    }
   ],
   "source": [
    "print(torch.ones(1,3))\n",
    "print(torch.ones(3))\n",
    "a = torch.rand(1,3).to(device)\n",
    "b = torch.ones(3,3).to(device)\n",
    "print(a)\n",
    "print(b)\n",
    "print(a*b)"
   ],
   "metadata": {
    "collapsed": false,
    "ExecuteTime": {
     "end_time": "2024-07-12T08:18:28.962165Z",
     "start_time": "2024-07-12T08:18:28.948165300Z"
    }
   }
  },
  {
   "cell_type": "code",
   "execution_count": 16,
   "outputs": [
    {
     "name": "stdout",
     "output_type": "stream",
     "text": [
      "tensor([[7.5618e-01, 8.9562e-04, 2.1999e+00]], device='cuda:0')\n",
      "tensor([[1., 1., 1.],\n",
      "        [1., 1., 1.],\n",
      "        [1., 1., 1.]], device='cuda:0')\n",
      "tensor([[2.9569, 2.9569, 2.9569]], device='cuda:0')\n",
      "tensor([[7.5618e-01, 8.9562e-04, 2.1999e+00],\n",
      "        [7.5618e-01, 8.9562e-04, 2.1999e+00],\n",
      "        [7.5618e-01, 8.9562e-04, 2.1999e+00]], device='cuda:0')\n",
      "tensor([[2.9569, 2.9569, 2.9569]], device='cuda:0')\n",
      "tensor([[1.7562, 1.0009, 3.1999],\n",
      "        [1.7562, 1.0009, 3.1999],\n",
      "        [1.7562, 1.0009, 3.1999]], device='cuda:0')\n"
     ]
    }
   ],
   "source": [
    "x = torch.randn(1,3).to(device)\n",
    "y = torch.ones(3,3).to(device)\n",
    "z = torch.matmul(x,y)\n",
    "print(x)\n",
    "print(y)\n",
    "print(z)\n",
    "print(x*y)\n",
    "print(x@y)\n",
    "print(x+y)"
   ],
   "metadata": {
    "collapsed": false,
    "ExecuteTime": {
     "end_time": "2024-07-12T08:20:25.579364600Z",
     "start_time": "2024-07-12T08:20:25.545273200Z"
    }
   }
  },
  {
   "cell_type": "code",
   "execution_count": 52,
   "outputs": [
    {
     "name": "stdout",
     "output_type": "stream",
     "text": [
      "torch.Size([2, 2])\n",
      "<built-in method size of Tensor object at 0x0000017A0598D680>\n",
      "tensor([[2., 3.],\n",
      "        [3., 4.]])\n"
     ]
    }
   ],
   "source": [
    "a = torch.tensor([[2.,3.],[3.,4.]])\n",
    "print(a.shape)\n",
    "print(a.size)\n",
    "print(a.data)"
   ],
   "metadata": {
    "collapsed": false,
    "ExecuteTime": {
     "end_time": "2024-07-12T10:47:18.680292900Z",
     "start_time": "2024-07-12T10:47:18.674291900Z"
    }
   }
  },
  {
   "cell_type": "code",
   "execution_count": 76,
   "outputs": [
    {
     "name": "stdout",
     "output_type": "stream",
     "text": [
      "tensor([[0.8630, 0.7689, 0.4487],\n",
      "        [0.6046, 0.0554, 0.2132],\n",
      "        [0.8916, 0.4259, 0.1259],\n",
      "        [0.9253, 0.8233, 0.1291]])\n",
      "tensor([[0.8630, 0.7689, 0.4487, 0.6046, 0.0554, 0.2132],\n",
      "        [0.8916, 0.4259, 0.1259, 0.9253, 0.8233, 0.1291]])\n",
      "tensor([[[0.9636, 0.2631, 0.4844],\n",
      "         [0.6815, 0.4028, 0.4096]],\n",
      "\n",
      "        [[0.8675, 0.2946, 0.7924],\n",
      "         [0.1491, 0.6657, 0.9300]]])\n",
      "tensor([[[0.9636, 0.2631, 0.4844, 0.6815, 0.4028, 0.4096, 0.8675, 0.2946,\n",
      "          0.7924, 0.1491, 0.6657, 0.9300]]])\n"
     ]
    }
   ],
   "source": [
    "b = torch.rand(4,3)\n",
    "c = torch.rand(2,2,3)\n",
    "print(b)\n",
    "print(b.reshape(2,6))\n",
    "print(c)\n",
    "print(c.reshape(1,1,12))"
   ],
   "metadata": {
    "collapsed": false,
    "ExecuteTime": {
     "end_time": "2024-07-12T11:02:35.343254300Z",
     "start_time": "2024-07-12T11:02:35.325505600Z"
    }
   }
  },
  {
   "cell_type": "code",
   "execution_count": 77,
   "outputs": [
    {
     "name": "stdout",
     "output_type": "stream",
     "text": [
      "tensor([0.8916, 0.4259, 0.1259])\n",
      "tensor(0.4259)\n",
      "tensor(0.4259)\n",
      "tensor([[0.8675, 0.2946, 0.7924],\n",
      "        [0.1491, 0.6657, 0.9300]])\n",
      "tensor([0.1491, 0.6657, 0.9300])\n",
      "tensor(0.6657)\n"
     ]
    }
   ],
   "source": [
    "print(b[2])\n",
    "print(b[2,1])\n",
    "print(b[2][1])\n",
    "\n",
    "print(c[1])\n",
    "print(c[1,1])\n",
    "print(c[1,1,1])"
   ],
   "metadata": {
    "collapsed": false,
    "ExecuteTime": {
     "end_time": "2024-07-12T11:02:38.306931500Z",
     "start_time": "2024-07-12T11:02:38.295932500Z"
    }
   }
  },
  {
   "cell_type": "code",
   "execution_count": 78,
   "outputs": [
    {
     "name": "stdout",
     "output_type": "stream",
     "text": [
      "tensor([[0.9864, 0.8603, 0.5565],\n",
      "        [0.5434, 0.3595, 0.5482]], dtype=torch.float64)\n",
      "tensor([[1, 2],\n",
      "        [3, 4]], dtype=torch.int16)\n"
     ]
    }
   ],
   "source": [
    "double_points = torch.rand(2,3,dtype=torch.double)\n",
    "print(double_points)\n",
    "short_points = torch.tensor([[1,2],[3,4]],dtype=torch.short)\n",
    "print(short_points)"
   ],
   "metadata": {
    "collapsed": false,
    "ExecuteTime": {
     "end_time": "2024-07-12T12:29:02.616465Z",
     "start_time": "2024-07-12T12:29:02.564764500Z"
    }
   }
  },
  {
   "cell_type": "code",
   "execution_count": 79,
   "outputs": [
    {
     "name": "stdout",
     "output_type": "stream",
     "text": [
      "tensor([[0.9541, 0.3690],\n",
      "        [0.9069, 0.3532]], dtype=torch.float64)\n"
     ]
    }
   ],
   "source": [
    "double_points = torch.rand(2,2).double()\n",
    "print(double_points)"
   ],
   "metadata": {
    "collapsed": false,
    "ExecuteTime": {
     "end_time": "2024-07-12T12:29:38.818088800Z",
     "start_time": "2024-07-12T12:29:38.800701200Z"
    }
   }
  },
  {
   "cell_type": "code",
   "execution_count": 80,
   "outputs": [
    {
     "name": "stdout",
     "output_type": "stream",
     "text": [
      "tensor([[-0.2769,  0.8787],\n",
      "        [-1.0048, -0.7143]], dtype=torch.float64)\n"
     ]
    }
   ],
   "source": [
    "double_points = torch.randn(2,2).to(torch.double)\n",
    "print(double_points)"
   ],
   "metadata": {
    "collapsed": false,
    "ExecuteTime": {
     "end_time": "2024-07-12T12:30:00.274198900Z",
     "start_time": "2024-07-12T12:30:00.263999500Z"
    }
   }
  },
  {
   "cell_type": "code",
   "execution_count": 81,
   "outputs": [
    {
     "name": "stdout",
     "output_type": "stream",
     "text": [
      "tensor([[ 0.4567,  0.9987],\n",
      "        [-1.6742, -0.8038]], dtype=torch.float64)\n"
     ]
    }
   ],
   "source": [
    "points = torch.randn(2,2)\n",
    "double_points = points.type(torch.double)\n",
    "print(double_points)"
   ],
   "metadata": {
    "collapsed": false,
    "ExecuteTime": {
     "end_time": "2024-07-12T12:30:47.108140100Z",
     "start_time": "2024-07-12T12:30:47.097140400Z"
    }
   }
  },
  {
   "cell_type": "code",
   "execution_count": 84,
   "outputs": [
    {
     "name": "stdout",
     "output_type": "stream",
     "text": [
      "[0, 1, 2, 3, 4, 5]\n",
      "[1, 2, 3, 4, 5]\n",
      "[1, 2, 3]\n",
      "[1, 3]\n"
     ]
    }
   ],
   "source": [
    "some_list = list(range(6))\n",
    "print(some_list[:])\n",
    "print(some_list[1:])\n",
    "print(some_list[1:4])\n",
    "print(some_list[1:4:2])"
   ],
   "metadata": {
    "collapsed": false,
    "ExecuteTime": {
     "end_time": "2024-07-12T14:04:47.008619600Z",
     "start_time": "2024-07-12T14:04:46.998735200Z"
    }
   }
  },
  {
   "cell_type": "code",
   "execution_count": 85,
   "outputs": [
    {
     "name": "stdout",
     "output_type": "stream",
     "text": [
      "tensor([[ 0.4567,  0.9987],\n",
      "        [-1.6742, -0.8038]])\n"
     ]
    }
   ],
   "source": [
    "print(points)"
   ],
   "metadata": {
    "collapsed": false,
    "ExecuteTime": {
     "end_time": "2024-07-12T14:05:04.785422300Z",
     "start_time": "2024-07-12T14:05:04.779245100Z"
    }
   }
  },
  {
   "cell_type": "code",
   "execution_count": 94,
   "outputs": [
    {
     "name": "stdout",
     "output_type": "stream",
     "text": [
      "tensor([[-0.9563, -0.8264,  0.1526],\n",
      "        [-0.0796, -1.7402, -0.2091],\n",
      "        [ 0.0697, -0.3418, -1.9544]])\n",
      "tensor([[-0.0796, -1.7402, -0.2091],\n",
      "        [ 0.0697, -0.3418, -1.9544]])\n",
      "tensor([[-0.0796, -1.7402, -0.2091],\n",
      "        [ 0.0697, -0.3418, -1.9544]])\n",
      "tensor([[-0.9563, -0.8264,  0.1526],\n",
      "        [-0.0796, -1.7402, -0.2091]])\n",
      "tensor([-0.0796,  0.0697])\n"
     ]
    }
   ],
   "source": [
    "points = torch.randn(3,3)\n",
    "print(points[:])\n",
    "print(points[1:])\n",
    "print(points[1:, :])\n",
    "print(points[:-1])\n",
    "print(points[1:, 0])"
   ],
   "metadata": {
    "collapsed": false,
    "ExecuteTime": {
     "end_time": "2024-07-12T14:07:29.671217400Z",
     "start_time": "2024-07-12T14:07:29.638803Z"
    }
   }
  },
  {
   "cell_type": "code",
   "execution_count": 104,
   "outputs": [
    {
     "name": "stdout",
     "output_type": "stream",
     "text": [
      "tensor([[0.1492, 0.7601, 0.5650],\n",
      "        [0.2262, 0.6566, 0.4233]], dtype=torch.float64)\n",
      "[[0.14924914 0.76010579 0.56502622]\n",
      " [0.22619689 0.65656269 0.42328149]]\n"
     ]
    },
    {
     "data": {
      "text/plain": "tensor([[0.1492, 0.7601, 0.5650],\n        [0.2262, 0.6566, 0.4233]], device='cuda:0', dtype=torch.float64)"
     },
     "execution_count": 104,
     "metadata": {},
     "output_type": "execute_result"
    }
   ],
   "source": [
    "points = torch.rand(2,3).type(torch.double)\n",
    "points_np = points.numpy()\n",
    "print(points)\n",
    "print(points_np)\n",
    "points.to(device)"
   ],
   "metadata": {
    "collapsed": false,
    "ExecuteTime": {
     "end_time": "2024-07-12T14:13:25.745080800Z",
     "start_time": "2024-07-12T14:13:25.729953700Z"
    }
   }
  },
  {
   "cell_type": "code",
   "execution_count": null,
   "outputs": [],
   "source": [],
   "metadata": {
    "collapsed": false
   }
  }
 ],
 "metadata": {
  "kernelspec": {
   "display_name": "Python 3",
   "language": "python",
   "name": "python3"
  },
  "language_info": {
   "codemirror_mode": {
    "name": "ipython",
    "version": 2
   },
   "file_extension": ".py",
   "mimetype": "text/x-python",
   "name": "python",
   "nbconvert_exporter": "python",
   "pygments_lexer": "ipython2",
   "version": "2.7.6"
  }
 },
 "nbformat": 4,
 "nbformat_minor": 0
}
