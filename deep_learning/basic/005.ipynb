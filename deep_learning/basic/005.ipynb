{
 "cells": [
  {
   "cell_type": "code",
   "execution_count": 7,
   "metadata": {
    "collapsed": true,
    "ExecuteTime": {
     "end_time": "2024-07-22T07:25:42.563849700Z",
     "start_time": "2024-07-22T07:25:42.553878800Z"
    }
   },
   "outputs": [
    {
     "name": "stdout",
     "output_type": "stream",
     "text": [
      "tensor([0.2883, 0.3497])\n",
      "tensor([ 0.0528, -0.0210,  0.0475, -0.0056,  0.0043, -0.0056,  0.0029,  0.0210,\n",
      "         0.0865,  0.0750,  0.0435, -0.0126,  0.0232, -0.0656,  0.0388,  0.0461,\n",
      "         0.0609, -0.0706,  0.0591,  0.0031,  0.0354, -0.0068,  0.0209, -0.0132,\n",
      "         0.0073, -0.0353,  0.0226, -0.0101, -0.0477, -0.0440, -0.0018,  0.0143,\n",
      "         0.0010, -0.0394,  0.0205,  0.0480,  0.0367, -0.0245, -0.0066, -0.0334,\n",
      "        -0.0211,  0.0208, -0.0220, -0.0329,  0.0160,  0.0582,  0.0590, -0.0370,\n",
      "        -0.0335,  0.0192,  0.0763, -0.0693, -0.0145,  0.0196,  0.0714, -0.0198,\n",
      "         0.0607, -0.0356,  0.0227, -0.0821, -0.0171,  0.0633,  0.0283, -0.0285],\n",
      "       grad_fn=<SqueezeBackward1>)\n",
      "tensor([-0.0028,  0.0649], grad_fn=<AddBackward0>)\n"
     ]
    }
   ],
   "source": [
    "import torch\n",
    "import torchvision.models as models\n",
    "import torch.nn as nn\n",
    "\n",
    "gru = nn.GRUCell(input_size=2, hidden_size=64)\n",
    "lin = nn.Linear(in_features=64, out_features=2)\n",
    "data_input = torch.rand((2,))\n",
    "print(data_input)\n",
    "y = gru(data_input)\n",
    "print(y)\n",
    "y = lin(y)\n",
    "print(y)"
   ]
  },
  {
   "cell_type": "code",
   "execution_count": 5,
   "outputs": [
    {
     "name": "stdout",
     "output_type": "stream",
     "text": [
      "tensor([0.3609, 0.0366], grad_fn=<SqueezeBackward1>)\n"
     ]
    }
   ],
   "source": [],
   "metadata": {
    "collapsed": false,
    "ExecuteTime": {
     "end_time": "2024-07-22T07:24:22.830078200Z",
     "start_time": "2024-07-22T07:24:22.807155500Z"
    }
   }
  },
  {
   "cell_type": "code",
   "execution_count": null,
   "outputs": [],
   "source": [],
   "metadata": {
    "collapsed": false
   }
  }
 ],
 "metadata": {
  "kernelspec": {
   "display_name": "Python 3",
   "language": "python",
   "name": "python3"
  },
  "language_info": {
   "codemirror_mode": {
    "name": "ipython",
    "version": 2
   },
   "file_extension": ".py",
   "mimetype": "text/x-python",
   "name": "python",
   "nbconvert_exporter": "python",
   "pygments_lexer": "ipython2",
   "version": "2.7.6"
  }
 },
 "nbformat": 4,
 "nbformat_minor": 0
}
